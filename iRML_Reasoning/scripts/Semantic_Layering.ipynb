{
 "cells": [
  {
   "cell_type": "code",
   "execution_count": null,
   "metadata": {},
   "outputs": [],
   "source": [
    "import pandas as pd\n",
    "f = open(\"train_pos\")\n",
    "train_data = []\n",
    "for line in f.readlines():\n",
    "    train_data.append(line.split())\n",
    "f.close()"
   ]
  },
  {
   "cell_type": "code",
   "execution_count": null,
   "metadata": {},
   "outputs": [],
   "source": [
    "data_count = pd.DataFrame(train_data)\n",
    "count = data_count.groupby(1).count()\n",
    "count.sort_values(by = 0, ascending=False, inplace=True)"
   ]
  },
  {
   "cell_type": "code",
   "execution_count": null,
   "metadata": {},
   "outputs": [],
   "source": [
    "#count = count.loc[count[0]>=50]\n",
    "#count = count.loc[count[0].between(6,50,inclusive='right')]\n",
    "count = count.loc[count[0]<=6]"
   ]
  },
  {
   "cell_type": "code",
   "execution_count": null,
   "metadata": {},
   "outputs": [],
   "source": [
    "count = list(count.index)\n",
    "data_count = data_count.loc[data_count[1].isin(count)]\n",
    "new_data = data_count.values.tolist()\n",
    "path = \"train_pos_L\"\n",
    "file = open(path, 'w', encoding='utf8')\n",
    "for i in new_data:\n",
    "    file.write(i[0] + '\t'+i[1] + '\t'+i[2] +'\\n')\n",
    "file.close()"
   ]
  }
 ],
 "metadata": {
  "kernelspec": {
   "display_name": "Python 3.9.7 ('base')",
   "language": "python",
   "name": "python3"
  },
  "language_info": {
   "codemirror_mode": {
    "name": "ipython",
    "version": 3
   },
   "file_extension": ".py",
   "mimetype": "text/x-python",
   "name": "python",
   "nbconvert_exporter": "python",
   "pygments_lexer": "ipython3",
   "version": "3.9.7"
  },
  "orig_nbformat": 4,
  "vscode": {
   "interpreter": {
    "hash": "5a410216a586027e41e6693bdeb1563026181c5d1fabea1354baf3177ace6ae8"
   }
  }
 },
 "nbformat": 4,
 "nbformat_minor": 2
}
